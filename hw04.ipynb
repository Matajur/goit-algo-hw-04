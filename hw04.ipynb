{
 "cells": [
  {
   "cell_type": "markdown",
   "metadata": {},
   "source": [
    "## Tier 1. Module 3: Basic Algorithms and Data Structures\n",
    "\n",
    "## Topic 4 - Sorting algorithms\n",
    "\n",
    "## Homework\n"
   ]
  },
  {
   "cell_type": "markdown",
   "metadata": {},
   "source": [
    "### Task 1\n"
   ]
  },
  {
   "cell_type": "markdown",
   "metadata": {},
   "source": [
    "Python має дві вбудовані функції сортування: sorted і sort. Функції сортування Python використовують Timsort — гібридний алгоритм сортування, що поєднує в собі сортування злиттям і сортування вставками.\n",
    "\n",
    "Порівняйте три алгоритми сортування: злиттям, вставками та Timsort за часом виконання. Аналіз повинен бути підтверджений емпіричними даними, отриманими шляхом тестування алгоритмів на різних наборах даних. Емпірично перевірте теоретичні оцінки складності алгоритмів, наприклад, сортуванням на великих масивах. Для заміру часу виконання алгоритмів використовуйте модуль timeit.\n",
    "\n",
    "Покажіть, що поєднання сортування злиттям і сортування вставками робить алгоритм Timsort набагато ефективнішим, і саме з цієї причини програмісти, в більшості випадків, використовують вбудовані в Python алгоритми, а не кодують самі. Зробіть висновки.\n"
   ]
  },
  {
   "cell_type": "markdown",
   "metadata": {},
   "source": [
    "1.1 - Алгоритм сортування злиттям\n"
   ]
  },
  {
   "cell_type": "code",
   "execution_count": 40,
   "metadata": {},
   "outputs": [],
   "source": [
    "def merge_sort(arr: list) -> list:\n",
    "    \"\"\"\n",
    "    A recursive function that splits an array (list or tuple) into\n",
    "    two halves and then joins them sorted with an outer function\n",
    "\n",
    "    :param arr: an array to be sorted\n",
    "    :return: merged and sorted list\n",
    "    \"\"\"\n",
    "    if len(arr) <= 1:\n",
    "        return arr\n",
    "\n",
    "    mid = len(arr) // 2\n",
    "    left_half = merge_sort(arr[:mid])\n",
    "    right_half = merge_sort(arr[mid:])\n",
    "\n",
    "    return merge(left_half, right_half)\n",
    "\n",
    "\n",
    "def merge(left: list, right: list) -> list:\n",
    "    \"\"\"\n",
    "    A function to merge two separate lists into one sorted list\n",
    "\n",
    "    :params left & right: two lists to be merged\n",
    "    :return: merged and sorted list\n",
    "    \"\"\"\n",
    "    merged = []\n",
    "    left_idx, right_idx = 0, 0\n",
    "\n",
    "    while left_idx < len(left) and right_idx < len(right):\n",
    "        if left[left_idx] < right[right_idx]:\n",
    "            merged.append(left[left_idx])\n",
    "            left_idx += 1\n",
    "        else:\n",
    "            merged.append(right[right_idx])\n",
    "            right_idx += 1\n",
    "\n",
    "    merged.extend(left[left_idx:])\n",
    "    merged.extend(right[right_idx:])\n",
    "\n",
    "    return merged"
   ]
  },
  {
   "cell_type": "markdown",
   "metadata": {},
   "source": [
    "1.2 - Алгоритм сортування вставками\n"
   ]
  },
  {
   "cell_type": "code",
   "execution_count": 41,
   "metadata": {},
   "outputs": [],
   "source": [
    "def insertion_sort(arr: list) -> list:\n",
    "    \"\"\"\n",
    "    A function to sort an array (list or tuple) using the insertion\n",
    "    sort method\n",
    "\n",
    "    :param arr: an array to be sorted\n",
    "    :return: sorted array\n",
    "    \"\"\"\n",
    "    for i in range(1, len(arr)):\n",
    "        key = arr[i]\n",
    "        j = i - 1\n",
    "        while j >= 0 and key < arr[j]:\n",
    "            arr[j + 1] = arr[j]\n",
    "            j -= 1\n",
    "        arr[j + 1] = key\n",
    "\n",
    "    return arr"
   ]
  },
  {
   "cell_type": "markdown",
   "metadata": {},
   "source": [
    "1.3 - Функція генерації випадкового тестового масиву\n"
   ]
  },
  {
   "cell_type": "code",
   "execution_count": 42,
   "metadata": {},
   "outputs": [],
   "source": [
    "import random\n",
    "\n",
    "\n",
    "def generate_data(size: int) -> list:\n",
    "    return [random.randint(0, 1000) for _ in range(size)]"
   ]
  },
  {
   "cell_type": "markdown",
   "metadata": {},
   "source": [
    "1.4 - Функція тестування алгоритмів\n"
   ]
  },
  {
   "cell_type": "code",
   "execution_count": 43,
   "metadata": {},
   "outputs": [],
   "source": [
    "import timeit\n",
    "\n",
    "\n",
    "def test_algorithms(algorithms: dict, data_sizes: list) -> dict:\n",
    "    \"\"\"\n",
    "    Function for testing sorting algorithms on randomly generated lists of\n",
    "    numbers\n",
    "\n",
    "    :param algorithms: a dictionary, where the keys are algorithm names, and\n",
    "    the values are functions or methods with an implemented sorting algorithm\n",
    "    :param data_sizes: a list of integer values representing the length of\n",
    "    random arrays to be generated for testing algorithms\n",
    "    :return: a dictionary with algorithm names as keys and times spent sorting\n",
    "    random arrays as values\n",
    "    \"\"\"\n",
    "    results = {}\n",
    "    for algo_name, algo_func in algorithms.items():\n",
    "        results[algo_name] = {}\n",
    "        for size in data_sizes:\n",
    "            data = generate_data(size)\n",
    "            time_taken = timeit.timeit(lambda: algo_func(data.copy()), number=10)\n",
    "            results[algo_name][size] = time_taken\n",
    "    return results"
   ]
  },
  {
   "cell_type": "markdown",
   "metadata": {},
   "source": [
    "1.5 - Тестування алгоритмів\n"
   ]
  },
  {
   "cell_type": "code",
   "execution_count": 44,
   "metadata": {},
   "outputs": [
    {
     "name": "stdout",
     "output_type": "stream",
     "text": [
      "Algorithm: Merge Sort\n",
      "Data size: 100     Time taken: 0.001393 seconds\n",
      "Data size: 1000    Time taken: 0.018338 seconds\n",
      "Data size: 10000   Time taken: 0.237893 seconds\n",
      "\n",
      "Algorithm: Insertion Sort\n",
      "Data size: 100     Time taken: 0.001766 seconds\n",
      "Data size: 1000    Time taken: 0.241139 seconds\n",
      "Data size: 10000   Time taken: 22.663815 seconds\n",
      "\n",
      "Algorithm: Timsort (Python built-in)\n",
      "Data size: 100     Time taken: 0.000036 seconds\n",
      "Data size: 1000    Time taken: 0.000431 seconds\n",
      "Data size: 10000   Time taken: 0.011314 seconds\n",
      "\n"
     ]
    }
   ],
   "source": [
    "algorithms = {\n",
    "    \"Merge Sort\": merge_sort,\n",
    "    \"Insertion Sort\": insertion_sort,\n",
    "    \"Timsort (Python built-in)\": sorted,\n",
    "}\n",
    "data_sizes = [100, 1000, 10000]\n",
    "\n",
    "results = test_algorithms(algorithms, data_sizes)\n",
    "for algo, timings in results.items():\n",
    "    print(f\"Algorithm: {algo}\")\n",
    "    for size, time_taken in timings.items():\n",
    "        print(f\"Data size: {size:<7} Time taken: {time_taken:.6f} seconds\")\n",
    "    print()"
   ]
  },
  {
   "cell_type": "markdown",
   "metadata": {},
   "source": [
    "### Висновки:\n"
   ]
  },
  {
   "cell_type": "markdown",
   "metadata": {},
   "source": [
    "1. Ініціалізація\n",
    "\n",
    "Як видно з результатів тесту, сортування злиттям виявилося значно швидшим, ніж вставками, а TimSort — швидше, ніж сортування злиттям. Але варто звернути увагу на той самий результат сортування невеликого масиву за допомогою злиття і вставок. Хоча перший алгоритм має лінійно-логарифмічну часову складність $O(n \\cdot log(n))$, а другий — квадратичну $O(x^2)$, і час виконання повинен відрізнятися на порядок $\\left( \\frac{100^ 2}{100 \\cdot log100} = 50 \\right)$, але постійні фактори, такі як ініціалізація рекурсивних функцій, з’їдають усі переваги сортування злиттям на малих наборах даних.\n",
    "\n",
    "TimSort значно перевершив перші два алгоритми навіть на невеликому масиві, це пояснюється тим, що він реалізований на Python на мові C, тоді як функції сортування злиттям і вставками написані безпосередньо на Python.\n",
    "\n",
    "2. Масштабованість\n",
    "\n",
    "Як і очікувалося, час сортування збільшується зі збільшенням набору даних, для сортування злиттям зростання відбувається відповідно до лінійно-логарифмічної прогресії $\\left( \\frac{10.000 \\cdot log10.000}{100 \\cdot log100} = 200 \\approx \\frac{0.237893}{ 0,001393 } \\right)$, а для сортування вставкою за квадратичною $\\left( \\frac{10.000^2}{100^2} = 10.000 \\approx \\frac{22.663815}{0.001766} \\right)$.\n",
    "\n",
    "У свою чергу TimSort має гібридну природу і поєднує в собі сортування вставкою та злиттям, тому при переході від малого до середнього масиву часова складність зростає відповідно до лінійно-логарифмічної прогресії, а перед переходом до великого масиву залежність більше нагадує квадратичну, однак ядро алгоритму усе ще в 22 рази швидше, ніж сортування злиттям, не в останню чергу через реалізацію на мові C.\n"
   ]
  },
  {
   "cell_type": "markdown",
   "metadata": {},
   "source": [
    "### Task 2\n"
   ]
  },
  {
   "cell_type": "markdown",
   "metadata": {},
   "source": [
    "Дано `k` відсортованих списків цілих чисел. Ваше завдання — об'єднати їх у один відсортований список. При виконанні завдання можете опиратися на алгоритм сортування злиттям з конспекту. Реалізуйте функцію `merge_k_lists`, яка приймає на вхід список відсортованих списків та повертає відсортований список.\n"
   ]
  },
  {
   "cell_type": "markdown",
   "metadata": {},
   "source": [
    "2.1 - Функції злиття відсортованих списків\n"
   ]
  },
  {
   "cell_type": "code",
   "execution_count": 54,
   "metadata": {},
   "outputs": [],
   "source": [
    "#%%timeit\n",
    "def merge_k_lists(lists: list[list, list]) -> list:\n",
    "    \"\"\"\n",
    "    Function to merge sorted arrays (lists or tuples)\n",
    "\n",
    "    :param lists: a list that includes other lists (or tuples) to\n",
    "    be merged using an outer function\n",
    "    :return: merged and sorted list\n",
    "    \"\"\"\n",
    "    if not lists:\n",
    "        return []\n",
    "\n",
    "    while len(lists) > 1:\n",
    "        merged = []\n",
    "        for i in range(0, len(lists), 2):\n",
    "            if i + 1 < len(lists):\n",
    "                merged.append(merge(lists[i], lists[i + 1]))\n",
    "            else:\n",
    "                merged.append(lists[i])\n",
    "        lists = merged\n",
    "\n",
    "    return lists[0]"
   ]
  },
  {
   "cell_type": "markdown",
   "metadata": {},
   "source": [
    "2.2 - Тестування\n"
   ]
  },
  {
   "cell_type": "code",
   "execution_count": 55,
   "metadata": {},
   "outputs": [
    {
     "name": "stdout",
     "output_type": "stream",
     "text": [
      "Sorted list: [1, 1, 2, 3, 4, 4, 5, 6]\n"
     ]
    }
   ],
   "source": [
    "lists = [[1, 4, 5], [1, 3, 4], [2, 6]]\n",
    "merged_list = merge_k_lists(lists)\n",
    "print(\"Sorted list:\", merged_list)"
   ]
  }
 ],
 "metadata": {
  "kernelspec": {
   "display_name": "Python 3",
   "language": "python",
   "name": "python3"
  },
  "language_info": {
   "codemirror_mode": {
    "name": "ipython",
    "version": 3
   },
   "file_extension": ".py",
   "mimetype": "text/x-python",
   "name": "python",
   "nbconvert_exporter": "python",
   "pygments_lexer": "ipython3",
   "version": "3.12.3"
  }
 },
 "nbformat": 4,
 "nbformat_minor": 2
}
